{
 "cells": [
  {
   "cell_type": "markdown",
   "metadata": {},
   "source": [
    "# Train a recurrent neural network to predict the position of the mouse in the v0,v1 coordinate system."
   ]
  },
  {
   "cell_type": "markdown",
   "metadata": {},
   "source": [
    "We train a model for each recording session.\n",
    "\n",
    "We get the animal position in the v0,v1 coordinate system from `transform_xy_to_grid_representation()`.\n",
    "\n",
    "We get the instantaneous firing rate of all our grid cells. \n",
    "\n",
    "We need to remove time-points with invalid values as the model can't deal with np.nan.\n",
    "\n",
    "\n",
    "### Rate normalization\n",
    "\n",
    "The firing rate of neuron is normalize for two reasons: all neurons have a similar contribution and values around 0 should facilitate learning. For each neuron, the rate vector is transform so that its mean is 0 and STD is 1. \n",
    "\n",
    "When doing inference, we will use the same transformation as during training to normalize the firing rate. This is because we often have a very poor estimate of the firing rate from short streches of data used for inference.\n",
    "\n",
    "### v0,v1 as model labels\n",
    "\n",
    "Each component of v0,v1 coordinate is periodic (circular data). To facilite learning, We decompose $v_{i}$ into $cos(v_{i})$ and $sin(v_{i})$. This way the values will range from -1 to 1 and the jumps from 360 to 0 degrees are avoided. You can think of $v_{i}$ as a circle with a radius of 1.\n",
    "\n",
    "### Trained model\n",
    "\n",
    "The trained model is saved in `session_name.grid_cell_rnn_model.pt` in each session directory."
   ]
  },
  {
   "cell_type": "code",
   "execution_count": 2,
   "metadata": {},
   "outputs": [],
   "source": [
    "%load_ext autoreload\n",
    "%autoreload 2\n",
    "\n",
    "import os\n",
    "import pickle\n",
    "import numpy as np\n",
    "import matplotlib.pyplot as plt\n",
    "import spikeA\n",
    "from spikeA.Spike_train import Spike_train\n",
    "from spikeA.Animal_pose import Animal_pose\n",
    "from spikeA.Spatial_properties import Spatial_properties\n",
    "from spikeA.Neuron import Simulated_place_cell, Simulated_grid_cell\n",
    "from scipy.stats import multivariate_normal\n",
    "from scipy.stats import poisson\n",
    "from scipy.interpolate import interp1d\n",
    "from tqdm import tqdm\n",
    "from scipy import stats\n",
    "from scipy import ndimage\n",
    "from scipy.stats import wilcoxon, pearsonr\n",
    "from scipy.signal import find_peaks\n",
    "import torch\n",
    "import numpy as np\n",
    "\n",
    "from functions import *"
   ]
  },
  {
   "cell_type": "markdown",
   "metadata": {},
   "source": [
    "# Break down of what goes into the model"
   ]
  },
  {
   "cell_type": "markdown",
   "metadata": {},
   "source": [
    "<li>Input: Firing rate of many different grid cells as a function of time, split into sequences of 20 consequetive spike trains</li>\n",
    "<li>Label: Location of the animal at that time point in toroidal coordinates</li>"
   ]
  },
  {
   "cell_type": "code",
   "execution_count": null,
   "metadata": {},
   "outputs": [],
   "source": []
  }
 ],
 "metadata": {
  "kernelspec": {
   "display_name": "torch",
   "language": "python",
   "name": "python3"
  },
  "language_info": {
   "codemirror_mode": {
    "name": "ipython",
    "version": 3
   },
   "file_extension": ".py",
   "mimetype": "text/x-python",
   "name": "python",
   "nbconvert_exporter": "python",
   "pygments_lexer": "ipython3",
   "version": "3.8.18"
  }
 },
 "nbformat": 4,
 "nbformat_minor": 2
}
