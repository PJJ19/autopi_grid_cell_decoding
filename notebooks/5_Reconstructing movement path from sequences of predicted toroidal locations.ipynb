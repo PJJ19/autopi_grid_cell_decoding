{
 "cells": [
  {
   "cell_type": "markdown",
   "metadata": {},
   "source": [
    "# Inference with the rnn.\n",
    "\n",
    "We now have a model to predict the position of the mouse in v0,v1 grid cell coordinates given the firing rate of grid cells in a short time window (400 ms).\n",
    "\n",
    "With the predicted v0,v1 we can then reconstruct the movement path in x,y coordinate system.\n",
    "\n",
    "Here we run the model on data that the model has never seen before (test dataset).\n",
    "\n",
    "## Test dataset\n",
    "\n",
    "We currently use the **last random foraging trial** to do the reconstruction of random foraging path. We don't have rotation of the grid pattern from first to last random foraging condition in our selected sessions."
   ]
  },
  {
   "cell_type": "markdown",
   "metadata": {},
   "source": [
    "### Processing data segments\n",
    "\n",
    "We want to be able to predict the path in a series of intervals. For example, all search paths of dark trials.  \n",
    "\n",
    "We use a function that can do the prediction for either one or several intervals. When working on several intervals, we simply loop over our interval and do our prediction for this interval. \n",
    "\n",
    "We wanted to avoid that the end of one interval could be concatenated with the start of the next one.\n",
    "\n",
    "### Path reconstruction in this notebook\n",
    "\n",
    "Note that the path reconstruction shown in this notebook is not done with the best parameters. For instance, smoothing can be applied to the reconstructed grid cell position and this improves the path reconstruction.\n",
    "\n",
    "In our analysis for the paper, we will use the prediction of the model in the v0,v1 coordinate system."
   ]
  },
  {
   "cell_type": "markdown",
   "metadata": {},
   "source": [
    "## Prediction\n",
    "\n",
    "The model predict position in the grid cell space. We can't know where this is in xy space because the grid pattern is periodic.\n",
    "\n",
    "But we can integrate the movement to create a path starting at 0,0. \n",
    "\n",
    "We use this path and compare it to the path obtained from the real x,y data that are transformed to grid space and back to movement path.\n",
    "\n",
    "In the end, we have a real path and a predicted path.\n",
    "\n",
    "## Measure of path reconstruction quality\n",
    "\n",
    "### Angle between the real and predicted movement direction.\n",
    "\n",
    "We compared the movement direction of real and predicted movement path.\n",
    "\n",
    "We can get the angle between vector x and y using this formula:\n",
    "\n",
    "$$\n",
    "DirError = tan^{-1}(x1*y2-y1*x2,x1*x2+y1*y2)\n",
    "$$\n",
    "\n",
    "gives the angle between the vectors in a counterclockwise direction from v1 to v2. If that angle would exceed 180 degrees, then the angle is measured in the clockwise direction but given a negative value. In other words, the output of 'atan2d' always ranges from -180 to +180 degrees.\n",
    "\n",
    "We get a distribution of angle for the reconstructed path. \n",
    "\n",
    "### Mean direction of angle between real and predicted movmenet direction\n",
    "\n",
    "If the distribution is centered on 0, this means that the orientation of the grid cell representation in a condition is the same as for the data on which the rnn model was trained (first random foraging). We can estimate the orientation of the grid cell representation by getting the mean movement direction angle. \n",
    "\n",
    "$$\n",
    "MeanDirError = tan^{-1}(\\sum{sin(DirError)}, \\sum{cos(DirError)} )\n",
    "$$\n",
    "\n",
    "\n",
    "### Stablily of the grid cell representation (and reconstruction quality)\n",
    "\n",
    "$$\n",
    "xMean = \\frac{1}{n} \\sum(cos(DirError))\n",
    "$$\n",
    "$$\n",
    "yMean = \\frac{1}{n} \\sum(sin(DirError))\n",
    "$$  \n",
    "$$\n",
    "DirErrorVL = \\sqrt{xMean*xMean+yMean*yMean}\n",
    "$$  \n",
    "\n",
    "### "
   ]
  },
  {
   "cell_type": "code",
   "execution_count": 74,
   "metadata": {},
   "outputs": [
    {
     "name": "stdout",
     "output_type": "stream",
     "text": [
      "The autoreload extension is already loaded. To reload it, use:\n",
      "  %reload_ext autoreload\n"
     ]
    }
   ],
   "source": [
    "%load_ext autoreload\n",
    "%autoreload 2\n",
    "\n",
    "import os\n",
    "import pickle\n",
    "import numpy as np\n",
    "import matplotlib.pyplot as plt\n",
    "import spikeA\n",
    "from spikeA.Spike_train import Spike_train\n",
    "from spikeA.Animal_pose import Animal_pose\n",
    "from spikeA.Spatial_properties import Spatial_properties\n",
    "from spikeA.Neuron import Simulated_place_cell, Simulated_grid_cell\n",
    "from scipy.stats import multivariate_normal\n",
    "from scipy.stats import poisson\n",
    "from scipy.interpolate import interp1d\n",
    "from tqdm import tqdm\n",
    "from scipy import stats\n",
    "from scipy import ndimage\n",
    "from scipy.stats import wilcoxon, pearsonr\n",
    "from scipy.signal import find_peaks\n",
    "import torch\n",
    "import numpy as np\n",
    "import datetime\n",
    "\n",
    "from functions import *"
   ]
  },
  {
   "cell_type": "code",
   "execution_count": 75,
   "metadata": {},
   "outputs": [
    {
     "name": "stdout",
     "output_type": "stream",
     "text": [
      "train_ifr.shape: (87407, 25)\n",
      "train_pose.shape: (87407, 4)\n"
     ]
    }
   ],
   "source": [
    "train_ifr,train_pose, train_grid_coord, test_ifr, test_pose, test_grid_coord, grid_param, train_time, test_time =  load_position_ifr_dataset() "
   ]
  },
  {
   "cell_type": "code",
   "execution_count": 76,
   "metadata": {},
   "outputs": [],
   "source": [
    "# HYPERPARAMETERS\n",
    "config = {\"seq_length\":20,\n",
    "            \"n_cells\":train_ifr.shape[1],\n",
    "            \"hidden_size\" :256,\n",
    "            \"num_layers\" : 2,\n",
    "            \"num_outputs\" : 4, # sin and cos of v0 and v1\n",
    "            \"learning_rate\" : 0.01,\n",
    "            \"batch_size\" :64,\n",
    "            \"num_epochs\": 100}"
   ]
  },
  {
   "cell_type": "code",
   "execution_count": 77,
   "metadata": {},
   "outputs": [],
   "source": [
    "train_dataset = NeuralDataset(ifr =train_ifr[:,:config[\"n_cells\"]], pose=train_grid_coord[:,0:4], time=train_time,  seq_length=config[\"seq_length\"])\n",
    "ifr_normalization_means = train_dataset.ifr_normalization_means\n",
    "ifr_normalization_stds = train_dataset.ifr_normalization_stds\n",
    "\n",
    "test_dataset = NeuralDataset(ifr =test_ifr[:,:config[\"n_cells\"]], \n",
    "                             pose=test_grid_coord[:,:config[\"num_outputs\"]], \n",
    "                             time = test_time,\n",
    "                             seq_length=config[\"seq_length\"],\n",
    "                             ifr_normalization_means=ifr_normalization_means,\n",
    "                             ifr_normalization_stds=ifr_normalization_stds)\n",
    "\n",
    "test_data_loader = torch.utils.data.DataLoader(test_dataset,batch_size=config[\"batch_size\"] , \n",
    "                                                       num_workers=2, shuffle=False, pin_memory=False) # to load batches"
   ]
  },
  {
   "cell_type": "code",
   "execution_count": 78,
   "metadata": {},
   "outputs": [],
   "source": [
    "device = (torch.device('cuda') if torch.cuda.is_available() else torch.device('cpu'))\n",
    "#print(\"Device available:\", device)\n",
    "model = LSTM(config[\"n_cells\"], config[\"hidden_size\"], config[\"num_layers\"], config[\"num_outputs\"],config[\"seq_length\"],device=device).to(device)"
   ]
  },
  {
   "cell_type": "code",
   "execution_count": 79,
   "metadata": {},
   "outputs": [
    {
     "data": {
      "text/plain": [
       "<All keys matched successfully>"
      ]
     },
     "execution_count": 79,
     "metadata": {},
     "output_type": "execute_result"
    }
   ],
   "source": [
    "fn = \"../data/grid_cell_model.pt\"\n",
    "model.load_state_dict(torch.load(fn))"
   ]
  },
  {
   "cell_type": "code",
   "execution_count": 80,
   "metadata": {},
   "outputs": [
    {
     "data": {
      "text/plain": [
       "((87729, 4), (87729, 4))"
      ]
     },
     "execution_count": 80,
     "metadata": {},
     "output_type": "execute_result"
    }
   ],
   "source": [
    "len(test_dataset)\n",
    "predictions = np.empty((len(test_dataset),4))\n",
    "loadedLabels = np.empty((len(test_dataset),4))\n",
    "timeHolder = np.empty((len(test_dataset),1))\n",
    "predictions.shape, loadedLabels.shape"
   ]
  },
  {
   "cell_type": "code",
   "execution_count": 81,
   "metadata": {},
   "outputs": [],
   "source": [
    "i = 0\n",
    "poseHolder = []\n",
    "model.eval()\n",
    "with torch.no_grad():\n",
    "    for imgs, labels, time in test_data_loader: # mini-batches with data loader, imgs is sequences of brain activity, labels is position of mouse\n",
    "        imgs = imgs.to(device=device) # batch x chan x 28 x 28 to batch x 28 x 28\n",
    "        outputs = model(imgs)\n",
    "        outputs = outputs.to(device)\n",
    "        loadedLabels[i:(i+labels.shape[0]),:] = labels\n",
    "        predictions[i:(i+labels.shape[0]),:] = outputs.cpu().numpy()\n",
    "        timeHolder[i:(i+labels.shape[0]),:] = time\n",
    "\n",
    "        i=i+labels.shape[0]"
   ]
  },
  {
   "cell_type": "code",
   "execution_count": 82,
   "metadata": {},
   "outputs": [
    {
     "data": {
      "text/plain": [
       "((87729, 4), (87729, 4), (87729, 1))"
      ]
     },
     "execution_count": 82,
     "metadata": {},
     "output_type": "execute_result"
    }
   ],
   "source": [
    "predictions.shape, loadedLabels.shape , timeHolder.shape"
   ]
  },
  {
   "cell_type": "code",
   "execution_count": 83,
   "metadata": {},
   "outputs": [],
   "source": [
    "from scipy.ndimage import gaussian_filter1d\n",
    "# Smooth the model predictions\n",
    "predictions = gaussian_filter1d(predictions,sigma = 5,mode=\"nearest\" ,axis=0)\n",
    "loadedLabels = gaussian_filter1d(loadedLabels,sigma = 5,mode=\"nearest\" ,axis=0)"
   ]
  },
  {
   "cell_type": "code",
   "execution_count": 84,
   "metadata": {},
   "outputs": [],
   "source": [
    "predMvt = gridSpaceToMovementPath(predictions,grid_period=grid_param[\"period\"],orientation=grid_param[\"orientation\"])\n",
    "mvt = gridSpaceToMovementPath(loadedLabels,grid_period=grid_param[\"period\"],orientation=grid_param[\"orientation\"])"
   ]
  },
  {
   "cell_type": "code",
   "execution_count": 85,
   "metadata": {},
   "outputs": [],
   "source": [
    "positionSamplingRate=1/50\n",
    "\n",
    "speed = np.sqrt(np.sum(mvt**2,axis=1))/positionSamplingRate"
   ]
  },
  {
   "cell_type": "code",
   "execution_count": 86,
   "metadata": {},
   "outputs": [],
   "source": [
    "resultDf = pd.DataFrame({\n",
    "    'x': mvt[:, 0],\n",
    "    'y': mvt[:, 1],\n",
    "    'px': predMvt[:, 0],\n",
    "    'py': predMvt[:, 1],\n",
    "    'speed': speed\n",
    "})"
   ]
  },
  {
   "cell_type": "code",
   "execution_count": 90,
   "metadata": {},
   "outputs": [],
   "source": [
    "def vl_mvt_direction_error(mvtDirError):\n",
    "    \"\"\"\n",
    "    Calculate the mean direction of the mvt direction error\n",
    "    \"\"\"\n",
    "    xMean = np.mean(np.cos(mvtDirError))\n",
    "    yMean = np.mean(np.sin(mvtDirError)) \n",
    "    return np.sqrt(xMean*xMean+yMean*yMean)\n"
   ]
  },
  {
   "cell_type": "code",
   "execution_count": 92,
   "metadata": {},
   "outputs": [
    {
     "data": {
      "image/png": "[encoded data removed]",
      "text/plain": [
       "<Figure size 900x300 with 3 Axes>"
      ]
     },
     "metadata": {
      "needs_background": "light"
     },
     "output_type": "display_data"
    }
   ],
   "source": [
    "rowSize,colSize= 3,3\n",
    "ncols=3\n",
    "nrows=1\n",
    "fig = plt.figure(figsize=(ncols*colSize, nrows*rowSize), constrained_layout=True) # create a figure\n",
    "mainSpec = fig.add_gridspec(ncols=ncols, nrows=nrows)\n",
    "start=5000\n",
    "end=6000 # 1000 samples is 10 seconds\n",
    "\n",
    "ax = fig.add_subplot(mainSpec[0])\n",
    "ax.plot(np.cumsum(mvt[start:end,0]),np.cumsum(mvt[start:end,1]))\n",
    "ax.set_title(\"Original path\",fontsize=9)\n",
    "ax.spines['top'].set_visible(False)\n",
    "ax.spines['right'].set_visible(False)\n",
    "ax.set_xlabel(\"x (cm)\")\n",
    "ax.set_ylabel(\"y (cm)\")\n",
    "\n",
    "ax = fig.add_subplot(mainSpec[1])\n",
    "ax.plot(np.cumsum(predMvt[start:end,0]),np.cumsum(predMvt[start:end,1]))\n",
    "ax.set_title(\"Reconstructed path ({} gc)\".format(config[\"n_cells\"]),fontsize=9)\n",
    "ax.spines['top'].set_visible(False)\n",
    "ax.spines['right'].set_visible(False)\n",
    "ax.set_xlabel(\"x (cm)\")\n",
    "ax.set_ylabel(\"y (cm)\")\n",
    "\n",
    "\n",
    "mvtDir = np.arctan2(mvt[start:end,1],mvt[start:end,0])\n",
    "predMvtDir = np.arctan2(predMvt[start:end,1],predMvt[start:end,0])\n",
    "mvtDirError = np.arctan2(np.cos(mvtDir)*np.sin(predMvtDir)-np.sin(mvtDir)*np.cos(predMvtDir),np.cos(mvtDir)*np.cos(predMvtDir)+np.sin(mvtDir)*np.sin(predMvtDir))\n",
    "\n",
    "ax = fig.add_subplot(mainSpec[2])\n",
    "ax.hist(mvtDirError,bins=np.linspace(-np.pi,np.pi,10))\n",
    "ax.spines['top'].set_visible(False)\n",
    "ax.spines['right'].set_visible(False)\n",
    "ax.set_xlabel(\"Mvt direction error (radian)\")\n",
    "ax.set_ylabel(\"Frequency\")\n",
    "ax.set_title(f\"Mvt direction error {np.round(vl_mvt_direction_error(mvtDirError),3)}\",fontsize=9)\n",
    "\n",
    "fig.savefig('../img/notebook5_original_vs_decoded.png',dpi=300,bbox_inches='tight')"
   ]
  },
  {
   "cell_type": "code",
   "execution_count": null,
   "metadata": {},
   "outputs": [],
   "source": []
  }
 ],
 "metadata": {
  "kernelspec": {
   "display_name": "torch",
   "language": "python",
   "name": "python3"
  },
  "language_info": {
   "codemirror_mode": {
    "name": "ipython",
    "version": 3
   },
   "file_extension": ".py",
   "mimetype": "text/x-python",
   "name": "python",
   "nbconvert_exporter": "python",
   "pygments_lexer": "ipython3",
   "version": "3.8.18"
  }
 },
 "nbformat": 4,
 "nbformat_minor": 2
}
