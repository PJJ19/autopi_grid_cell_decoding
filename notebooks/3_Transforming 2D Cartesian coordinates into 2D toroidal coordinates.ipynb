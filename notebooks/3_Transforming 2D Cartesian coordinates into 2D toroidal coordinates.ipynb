{
 "cells": [
  {
   "cell_type": "code",
   "execution_count": null,
   "metadata": {},
   "outputs": [],
   "source": [
    "%load_ext autoreload\n",
    "%autoreload 2\n",
    "\n",
    "import os\n",
    "import pickle\n",
    "import numpy as np\n",
    "import matplotlib.pyplot as plt\n",
    "import spikeA\n",
    "from spikeA.Spike_train import Spike_train\n",
    "from spikeA.Animal_pose import Animal_pose\n",
    "from spikeA.Spatial_properties import Spatial_properties\n",
    "from spikeA.Neuron import Simulated_place_cell, Simulated_grid_cell\n",
    "from scipy.stats import multivariate_normal\n",
    "from scipy.stats import poisson\n",
    "from scipy.interpolate import interp1d\n",
    "from tqdm import tqdm\n",
    "from scipy import stats\n",
    "from scipy import ndimage\n",
    "from scipy.stats import wilcoxon, pearsonr\n",
    "from scipy.signal import find_peaks\n",
    "import torch\n",
    "import numpy as np\n",
    "\n",
    "from functions import *"
   ]
  }
 ],
 "metadata": {
  "language_info": {
   "name": "python"
  }
 },
 "nbformat": 4,
 "nbformat_minor": 2
}
